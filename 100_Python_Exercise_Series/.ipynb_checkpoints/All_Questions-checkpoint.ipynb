{
 "cells": [
  {
   "cell_type": "markdown",
   "id": "39b3d055",
   "metadata": {},
   "source": [
    "# Question-1"
   ]
  },
  {
   "cell_type": "markdown",
   "id": "50e19e36",
   "metadata": {},
   "source": [
    "Write a program  which will find all such numbers which are divisible by 7 but are not a multiple of5, between 200 and 3200 (both included)"
   ]
  },
  {
   "cell_type": "code",
   "execution_count": 6,
   "id": "ce437b0f",
   "metadata": {
    "ExecuteTime": {
     "end_time": "2022-10-02T20:02:24.685791Z",
     "start_time": "2022-10-02T20:02:24.664630Z"
    }
   },
   "outputs": [
    {
     "name": "stdout",
     "output_type": "stream",
     "text": [
      "[2002, 2009, 2016, 2023, 2037, 2044, 2051, 2058, 2072, 2079, 2086, 2093, 2107, 2114, 2121, 2128, 2142, 2149, 2156, 2163, 2177, 2184, 2191, 2198, 2212, 2219, 2226, 2233, 2247, 2254, 2261, 2268, 2282, 2289, 2296, 2303, 2317, 2324, 2331, 2338, 2352, 2359, 2366, 2373, 2387, 2394, 2401, 2408, 2422, 2429, 2436, 2443, 2457, 2464, 2471, 2478, 2492, 2499, 2506, 2513, 2527, 2534, 2541, 2548, 2562, 2569, 2576, 2583, 2597, 2604, 2611, 2618, 2632, 2639, 2646, 2653, 2667, 2674, 2681, 2688, 2702, 2709, 2716, 2723, 2737, 2744, 2751, 2758, 2772, 2779, 2786, 2793, 2807, 2814, 2821, 2828, 2842, 2849, 2856, 2863, 2877, 2884, 2891, 2898, 2912, 2919, 2926, 2933, 2947, 2954, 2961, 2968, 2982, 2989, 2996, 3003, 3017, 3024, 3031, 3038, 3052, 3059, 3066, 3073, 3087, 3094, 3101, 3108, 3122, 3129, 3136, 3143, 3157, 3164, 3171, 3178, 3192, 3199]\n"
     ]
    }
   ],
   "source": [
    "my_list = []\n",
    "for i in range(2000, 3201):\n",
    "    if (i%7==0) and (i%5!=0):\n",
    "        my_list.append(i)\n",
    "print(my_list )       "
   ]
  },
  {
   "cell_type": "markdown",
   "id": "ea6803a0",
   "metadata": {
    "ExecuteTime": {
     "end_time": "2022-10-02T20:02:37.740508Z",
     "start_time": "2022-10-02T20:02:37.721395Z"
    }
   },
   "source": [
    "# Question-;2"
   ]
  },
  {
   "cell_type": "markdown",
   "id": "80d83dd8",
   "metadata": {},
   "source": [
    "- Write a program which can compute the factorial of a given numbers."
   ]
  },
  {
   "cell_type": "code",
   "execution_count": 16,
   "id": "76adcb9c",
   "metadata": {
    "ExecuteTime": {
     "end_time": "2022-10-02T20:18:06.124459Z",
     "start_time": "2022-10-02T20:18:04.849999Z"
    }
   },
   "outputs": [
    {
     "name": "stdout",
     "output_type": "stream",
     "text": [
      "Please enter a number : 5\n",
      "120\n"
     ]
    }
   ],
   "source": [
    "def factorial(num):\n",
    "    result  = 1\n",
    "    for i in range(1, num+1):\n",
    "        result*=i\n",
    "    print(result)\n",
    "number = int(input(\"Please enter a number : \"))\n",
    "factorial(number)        "
   ]
  },
  {
   "cell_type": "markdown",
   "id": "600d2127",
   "metadata": {},
   "source": [
    "# Question-3"
   ]
  },
  {
   "cell_type": "markdown",
   "id": "7aabd4f4",
   "metadata": {},
   "source": [
    "With a given integral number n , write a program to generate a dictionary that contains (i, i*i) such that is an integral number between 1 and n (both included). And then the program should print the dictionary"
   ]
  },
  {
   "cell_type": "code",
   "execution_count": 20,
   "id": "fb5c7353",
   "metadata": {
    "ExecuteTime": {
     "end_time": "2022-10-02T20:21:07.700117Z",
     "start_time": "2022-10-02T20:21:05.770865Z"
    }
   },
   "outputs": [
    {
     "name": "stdout",
     "output_type": "stream",
     "text": [
      "Please enter a number : 8\n",
      "{1: 1, 2: 4, 3: 9, 4: 16, 5: 25, 6: 36, 7: 49, 8: 64}\n"
     ]
    }
   ],
   "source": [
    "my_dict = {}\n",
    "\n",
    "number = int(input(\"Please enter a number : \"))\n",
    "\n",
    "for i in range(1, number+1):\n",
    "    my_dict[i] = i*i\n",
    "\n",
    "print(my_dict)\n"
   ]
  },
  {
   "cell_type": "markdown",
   "id": "8867f1bc",
   "metadata": {},
   "source": [
    "# Question -4 "
   ]
  },
  {
   "cell_type": "markdown",
   "id": "833923e5",
   "metadata": {},
   "source": [
    "Write a program which accepts a sequence of comma-separated numbers from console and generate a list and a tuple which contains every number\n",
    "- Suppose the following input is supplied to the program: \n",
    " 34, 67,55,33,12,98\n",
    "- Then the output should be : \n",
    "\"34\", \"67\", \"33\", \"12\", \"98\""
   ]
  },
  {
   "cell_type": "code",
   "execution_count": 32,
   "id": "f520ac5f",
   "metadata": {
    "ExecuteTime": {
     "end_time": "2022-10-02T20:36:21.470587Z",
     "start_time": "2022-10-02T20:36:17.946689Z"
    }
   },
   "outputs": [
    {
     "name": "stdout",
     "output_type": "stream",
     "text": [
      "Enter a number : 8\n",
      "Enter a number : 5\n",
      "Enter a number : 4\n",
      "Enter a number : 3\n",
      "Enter a number : ok\n",
      "['8', '5', '4', '3']\n",
      "('8', '5', '4', '3')\n"
     ]
    }
   ],
   "source": [
    "numbers_list = []\n",
    "number = True\n",
    "while number != \"ok\".lower():\n",
    "    number = input(\"Enter a number : \")\n",
    "    if number == \"ok\".lower():\n",
    "        break\n",
    "    numbers_list.append(number)\n",
    "print(numbers_list)\n",
    "print(tuple(numbers_list))"
   ]
  },
  {
   "cell_type": "markdown",
   "id": "86c6fee6",
   "metadata": {},
   "source": [
    "# Question-5"
   ]
  },
  {
   "cell_type": "code",
   "execution_count": null,
   "id": "bfc263c8",
   "metadata": {},
   "outputs": [],
   "source": []
  },
  {
   "cell_type": "markdown",
   "id": "8de84cf5",
   "metadata": {},
   "source": [
    "# Question-6"
   ]
  },
  {
   "cell_type": "markdown",
   "id": "2cc44a96",
   "metadata": {
    "ExecuteTime": {
     "end_time": "2022-10-03T20:38:39.870578Z",
     "start_time": "2022-10-03T20:38:39.851672Z"
    }
   },
   "source": [
    "Write a program that calculates and prints the value according to the given formula : \n",
    "- Q = Square root of [(2 * C * D )/H]\n",
    "\n",
    "Following are the fixed values of C and H :\n",
    "\n",
    "C is 50. H is 30.\n",
    "\n",
    "D is variable whose values should be input to your program in a comma-seperated sequence.\n",
    "\n",
    "Example :\n",
    "\n",
    "Let us assume the following comma-seperated input sequence is given to the program :  100,150,180\n",
    "\n",
    "The output of the program should be :  18,22,24\n"
   ]
  },
  {
   "cell_type": "code",
   "execution_count": 17,
   "id": "fceb63aa",
   "metadata": {
    "ExecuteTime": {
     "end_time": "2022-10-03T20:55:07.927996Z",
     "start_time": "2022-10-03T20:55:04.103110Z"
    }
   },
   "outputs": [
    {
     "name": "stdout",
     "output_type": "stream",
     "text": [
      "100,150,180\n",
      "[18, 22, 24]\n"
     ]
    }
   ],
   "source": [
    "import math\n",
    "c = 50\n",
    "h = 30 \n",
    "d = input().split(\",\")\n",
    "values = []\n",
    "for i in d:\n",
    "    i = int(i)\n",
    "    result = round(math.sqrt((2*c*i)/h))\n",
    "    values.append(result)\n",
    "print(values)"
   ]
  },
  {
   "cell_type": "markdown",
   "id": "d71464d0",
   "metadata": {},
   "source": [
    "# Question-7 "
   ]
  },
  {
   "cell_type": "markdown",
   "id": "05b3fcf7",
   "metadata": {},
   "source": [
    "Write a program which takes 2 digits, X,Y as input and generates a 2-dimensional array. The element value in the i-th row and j-th columns of the array should be i*j. \n",
    "\n",
    "Note : i=0,1,...X-1; j=0,1,....Y-1.\n",
    "\n",
    "Example:\n",
    "Suppose the following inputs are given to the program: 3,5\n",
    "\n",
    "Then, the output of the program should be : [[0,0,0,0,0],[0,1,2,3,4],[0,2,4,6,8]]"
   ]
  },
  {
   "cell_type": "code",
   "execution_count": 3,
   "id": "577f6cd4",
   "metadata": {
    "ExecuteTime": {
     "end_time": "2022-10-06T20:15:03.161735Z",
     "start_time": "2022-10-06T20:14:56.791728Z"
    }
   },
   "outputs": [
    {
     "name": "stdout",
     "output_type": "stream",
     "text": [
      "Please enter X value :  4\n",
      "Please enter Y value :  6\n",
      "[[0, 0, 0, 0, 0, 0], [0, 1, 2, 3, 4, 5], [0, 2, 4, 6, 8, 10], [0, 3, 6, 9, 12, 15]]\n"
     ]
    }
   ],
   "source": [
    "X = int(input(\"Please enter X value :  \"))\n",
    "Y = int(input(\"Please enter Y value :  \"))\n",
    "\n",
    "result = []\n",
    "for i in range(X):\n",
    "    my_list = []\n",
    "    for j in range(Y):\n",
    "        multiply = i*j\n",
    "        my_list.append(multiply)\n",
    "    result.append(my_list)\n",
    "    \n",
    "print(result)\n",
    "        "
   ]
  },
  {
   "cell_type": "markdown",
   "id": "114b0e6f",
   "metadata": {},
   "source": [
    "# Question-8"
   ]
  },
  {
   "cell_type": "markdown",
   "id": "80f6c625",
   "metadata": {},
   "source": [
    "Write a program that accepts a comma seperated sequence of words as input and prints the words in a comma-seperated sequence after sorting them alphabeticallay. \n",
    "\n",
    "Suppose the following input is supplied to the program:\n",
    "without, hello, bag, world\n",
    "\n",
    "Then output should be: \n",
    "bag, hello,without,world\n"
   ]
  },
  {
   "cell_type": "code",
   "execution_count": 18,
   "id": "96c86fda",
   "metadata": {
    "ExecuteTime": {
     "end_time": "2022-10-06T20:46:48.932619Z",
     "start_time": "2022-10-06T20:46:42.485751Z"
    }
   },
   "outputs": [
    {
     "name": "stdout",
     "output_type": "stream",
     "text": [
      "hab,askdjh,erkth,şöl\n",
      "askdjh\n",
      "erkth\n",
      "hab\n",
      "şöl\n"
     ]
    }
   ],
   "source": [
    "word_list = input().split(\",\")\n",
    "\n",
    "word_list.sort()\n",
    "for i in word_list:\n",
    "    print(i)"
   ]
  },
  {
   "cell_type": "code",
   "execution_count": 20,
   "id": "88064bef",
   "metadata": {
    "ExecuteTime": {
     "end_time": "2022-10-06T20:47:31.531607Z",
     "start_time": "2022-10-06T20:47:22.060891Z"
    }
   },
   "outputs": [
    {
     "name": "stdout",
     "output_type": "stream",
     "text": [
      "oıretu,bnö,ueıw,ahıuaf,knk\n"
     ]
    },
    {
     "data": {
      "text/plain": [
       "['ahıuaf', 'bnö', 'knk', 'oıretu', 'ueıw']"
      ]
     },
     "execution_count": 20,
     "metadata": {},
     "output_type": "execute_result"
    }
   ],
   "source": [
    "word_list = input().split(\",\")\n",
    "sorted(word_list)\n"
   ]
  },
  {
   "cell_type": "code",
   "execution_count": 22,
   "id": "d96131d8",
   "metadata": {
    "ExecuteTime": {
     "end_time": "2022-10-06T20:49:30.424095Z",
     "start_time": "2022-10-06T20:49:30.395618Z"
    }
   },
   "outputs": [
    {
     "data": {
      "text/plain": [
       "'ENOVWZ'"
      ]
     },
     "execution_count": 22,
     "metadata": {},
     "output_type": "execute_result"
    }
   ],
   "source": [
    "a = 'ZENOVW'\n",
    "''.join(sorted(a))"
   ]
  },
  {
   "cell_type": "markdown",
   "id": "f5757ca5",
   "metadata": {},
   "source": [
    "# Question-9"
   ]
  },
  {
   "cell_type": "markdown",
   "id": "b68a69a1",
   "metadata": {},
   "source": [
    "Write a program that accepts sequence of lines as input and prints the lines after making all characters in the sentence capitalized.\n",
    "\n",
    "Suppose the following input is supplied to the program:\n",
    "\n",
    "-Hello world\n",
    "-Practice makes perfect \n",
    "\n",
    "Then the output should be: \n",
    "\n",
    "-HELLO WORLD\n",
    "-PRACTICE MAKES PERFECT \n"
   ]
  },
  {
   "cell_type": "code",
   "execution_count": 9,
   "id": "b8a1410f",
   "metadata": {
    "ExecuteTime": {
     "end_time": "2022-10-08T19:20:56.813942Z",
     "start_time": "2022-10-08T19:20:43.597315Z"
    }
   },
   "outputs": [
    {
     "name": "stdout",
     "output_type": "stream",
     "text": [
      "Please enter a sentence :lagj alg KSAJG\n",
      "Please enter a sentence :AGHNL lıfghn\n",
      "Please enter a sentence :asrth\n",
      "Please enter a sentence :ok\n",
      "LAGJ ALG KSAJG\n",
      "AGHNL LIFGHN\n",
      "ASRTH\n"
     ]
    }
   ],
   "source": [
    "sentences =[]\n",
    "while True:\n",
    "    s = input(\"Please enter a sentence :\")\n",
    "    if s != \"ok\".lower():\n",
    "        sentences.append(s)\n",
    "    else :\n",
    "        break\n",
    "for i in sentences:\n",
    "    print(i.upper())"
   ]
  },
  {
   "cell_type": "markdown",
   "id": "4629e24b",
   "metadata": {},
   "source": [
    "# Question-10"
   ]
  },
  {
   "cell_type": "markdown",
   "id": "955f2290",
   "metadata": {},
   "source": [
    "Write a program that accepts a sequence of whitespace seperated words as input and prints the words after removing all duplicatd words and sorting them alphabetically.\n",
    "\n",
    "Suppose the following input is supplied to the program :\n",
    "\n",
    "hello world and practice makes perfect and hello world again\n",
    "\n",
    "Then the output should be :\n",
    "\n",
    "again and hello makes perfect practice world"
   ]
  },
  {
   "cell_type": "code",
   "execution_count": null,
   "id": "8d5d635e",
   "metadata": {},
   "outputs": [],
   "source": []
  },
  {
   "cell_type": "code",
   "execution_count": null,
   "id": "161e7213",
   "metadata": {},
   "outputs": [],
   "source": []
  },
  {
   "cell_type": "code",
   "execution_count": null,
   "id": "3fd8d506",
   "metadata": {},
   "outputs": [],
   "source": []
  }
 ],
 "metadata": {
  "hide_input": false,
  "kernelspec": {
   "display_name": "Python 3 (ipykernel)",
   "language": "python",
   "name": "python3"
  },
  "language_info": {
   "codemirror_mode": {
    "name": "ipython",
    "version": 3
   },
   "file_extension": ".py",
   "mimetype": "text/x-python",
   "name": "python",
   "nbconvert_exporter": "python",
   "pygments_lexer": "ipython3",
   "version": "3.9.12"
  },
  "toc": {
   "base_numbering": 1,
   "nav_menu": {},
   "number_sections": true,
   "sideBar": true,
   "skip_h1_title": false,
   "title_cell": "Table of Contents",
   "title_sidebar": "Contents",
   "toc_cell": false,
   "toc_position": {},
   "toc_section_display": true,
   "toc_window_display": false
  }
 },
 "nbformat": 4,
 "nbformat_minor": 5
}
